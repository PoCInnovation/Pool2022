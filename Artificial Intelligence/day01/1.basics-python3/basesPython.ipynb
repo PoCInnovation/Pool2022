{
 "cells": [
  {
   "cell_type": "markdown",
   "metadata": {},
   "source": [
    "![Python3](./image/python.jpg)\n",
    "\n",
    "<br>\n",
    "\n",
    "# Python Basics\n",
    "\n",
    "<br>\n",
    "\n",
    "Welcome to the first topic of the week.\\\n",
    "You will learn the basics of the Python language, we will use it throughout the week to introduce you to the vast field of Artificial Intelligence.\n",
    "\n",
    "Python is an interpreted, multi-paradigm language.\\\n",
    "It is used in the scientific field, because of its many optimized libraries for numerical computation and its simple syntax,\\\n",
    "which makes it a high-level language.\n",
    "\n",
    "During this first preliminary activity, you will learn the basics of Python.\\\n",
    "Python is vast and we will only look at the most important notions of the language.\\\n",
    "Therefore, it is more than likely that during this week, you will observe a notion that is not present in this activity.\\\n",
    "In which case you will have to look for the solution yourself.\n",
    "\n",
    "[Documentation Python](https://docs.python.org/3/)"
   ]
  },
  {
   "cell_type": "markdown",
   "metadata": {},
   "source": [
    "## Control structures and display\n",
    "\n",
    "Python is an untyped language, meaning that you don't have to define your variable as an ```int```, or a ```float``` for example.\n",
    "\n",
    "As a programming language, Python includes its control structures.\\\n",
    "You've seen them before, especially in C and perhaps in other programming languages.\n",
    "\n",
    "First of all, the ```for``` and ```while``` loops for repeating statements.\\\n",
    "The ```if```, ``elif`` and ```else``` conditions for creating branches.\\\n",
    "The ```print()``` function to display informations."
   ]
  },
  {
   "cell_type": "markdown",
   "metadata": {},
   "source": [
    "**Exercice :**\\\n",
    "display the content of ```value``` ```n``` times."
   ]
  },
  {
   "cell_type": "code",
   "execution_count": 2,
   "metadata": {},
   "outputs": [
    {
     "name": "stdout",
     "output_type": "stream",
     "text": [
      "bonjour\n",
      "bonjour\n",
      "bonjour\n",
      "bonjour\n",
      "bonjour\n"
     ]
    }
   ],
   "source": [
    "value = \"bonjour\"\n",
    "n = 5\n",
    "\n",
    "# code here"
   ]
  },
  {
   "cell_type": "markdown",
   "metadata": {},
   "source": [
    "**Expected Result :**\\\n",
    "bonjour\\\n",
    "bonjour\\\n",
    "bonjour\\\n",
    "bonjour\\\n",
    "bonjour"
   ]
  },
  {
   "cell_type": "markdown",
   "metadata": {},
   "source": [
    "**Exercice :**\\\n",
    "Your first task is to make a \"fizzbuzz\" program:\n",
    "\n",
    "Display the numbers **from 1 to nb_iterations** with a **for** loop.\\\n",
    "If a number is a **multiples of 3**, write **\"Fizz\" instead of the number.**\\\n",
    "If a number is a **multiples of 5**, write **\"Buzz\" instead of the number.**\\\n",
    "If a number is a **multiple of both 3 and 5**, write **\"FizzBuzz\" instead of the number.**\n",
    "\n",
    "You must follow the **diagram** :\n",
    "\n",
    "![schema](./image/diagramme.png)"
   ]
  },
  {
   "cell_type": "code",
   "execution_count": null,
   "metadata": {},
   "outputs": [],
   "source": [
    "nb_iterations = 16\n",
    "\n",
    "# code here"
   ]
  },
  {
   "cell_type": "markdown",
   "metadata": {},
   "source": [
    "**Expected result :**\\\n",
    "1\\\n",
    "2\\\n",
    "Fizz\\\n",
    "4\\\n",
    "Buzz\\\n",
    "...\\\n",
    "11\\\n",
    "Fizz\\\n",
    "13\\\n",
    "14\\\n",
    "FizzBuzz"
   ]
  },
  {
   "cell_type": "markdown",
   "metadata": {},
   "source": [
    "## Functions\n",
    "\n",
    "In programming, functions are very useful for performing the same operation several times within a program.\\\n",
    "They also make the code more readable and clearer by breaking it up into logical blocks.\n",
    "\n",
    "A function is a block of code which only runs when it is called.\\\n",
    "You can pass data, known as parameters, into a function.\\\n",
    "A function can return data as a result.\n",
    "\n",
    "**Example :**\\\n",
    "the function returns the parameter."
   ]
  },
  {
   "cell_type": "code",
   "execution_count": null,
   "metadata": {},
   "outputs": [],
   "source": [
    "def example(arg1):\n",
    "    return arg1\n",
    "example(1)"
   ]
  },
  {
   "cell_type": "markdown",
   "metadata": {},
   "source": [
    "Try to understand the working flow of this function."
   ]
  },
  {
   "cell_type": "code",
   "execution_count": null,
   "metadata": {},
   "outputs": [],
   "source": [
    "parameter1 = \"first\"\n",
    "parameter2 = \"second\"\n",
    "\n",
    "def my_function(parameter1, parameter2):\n",
    "    print(f'Parameter1 : {parameter1} \\nParameter2 : {parameter2}')\n",
    "    return parameter2, parameter1\n",
    "\n",
    "parameter1, parameter2 = my_function(parameter1, parameter2)\n",
    "parameter1, parameter2 = my_function(parameter1, parameter2)"
   ]
  },
  {
   "cell_type": "markdown",
   "metadata": {},
   "source": [
    "If you managed to understand the above function, then now that you are able to write functions.\n",
    "\n",
    "**Exercice :**\\\n",
    "Program a function named ```SquareIt``` that takes ```x``` as a parameter. \\\n",
    "The function should return x²."
   ]
  },
  {
   "cell_type": "code",
   "execution_count": null,
   "metadata": {},
   "outputs": [],
   "source": [
    "# code here\n",
    "\n",
    "SquareIt(4)"
   ]
  },
  {
   "cell_type": "markdown",
   "metadata": {},
   "source": [
    "**Expected result :** ```16```"
   ]
  },
  {
   "cell_type": "markdown",
   "metadata": {},
   "source": [
    "**Exercice :**\\\n",
    "Make a function named ```printMany``` that takes two parameters: ```value``` and ```nb_iterations```.\\\n",
    "You will check that the second parameter is a ```int```.\\\n",
    "if it is not, display ```\"nb_iterations is not an integer\"``` and return ```None```.\\\n",
    "If it is an integer, display ```value``` ```nb_iterations``` times."
   ]
  },
  {
   "cell_type": "code",
   "execution_count": null,
   "metadata": {},
   "outputs": [],
   "source": [
    "# code here\n",
    "\n",
    "printMany(\"bonjour\", \"quarante-fois\")\n",
    "print(\"\")\n",
    "printMany(\"bonjour\", 3)"
   ]
  },
  {
   "cell_type": "markdown",
   "metadata": {},
   "source": [
    "**Expected result :**\\\n",
    "nb_iterations is not an integer\n",
    "\n",
    "bonjour\\\n",
    "bonjour\\\n",
    "bonjour    "
   ]
  },
  {
   "cell_type": "markdown",
   "metadata": {},
   "source": [
    "**Exercice :**\\\n",
    "Create a function ```my_concat``` which takes two parameters: ```str1```, ```str2```.\\\n",
    "If the length of ```str2``` is greater than that of ```str1```, stop the function.\\\n",
    "Otherwise replace the end of ```str2``` by ```str1``` and print that."
   ]
  },
  {
   "cell_type": "code",
   "execution_count": null,
   "metadata": {},
   "outputs": [],
   "source": [
    "# code here\n",
    "\n",
    "# must not display anything  \n",
    "my_concat(\"soir\", \"bonjour\")\n",
    "# display bonsoir\n",
    "my_concat(\"bonjour\", \"soir\")"
   ]
  },
  {
   "cell_type": "markdown",
   "metadata": {},
   "source": [
    "**Expected result :** ```bonsoir```"
   ]
  },
  {
   "cell_type": "markdown",
   "metadata": {},
   "source": [
    "## Import\n"
   ]
  },
  {
   "cell_type": "markdown",
   "metadata": {},
   "source": [
    "We will be using python libraries regularly during this week.\\\n",
    "A library is a toolbox in which are stored functions or other Python objects that we can reuse.\n",
    "(Note: In python, libraries are often called 'modules', they're essentially the same things.)\n",
    "\n",
    "**Example :**\\\n",
    "In the following example we will import the Numpy library and give it the alias np.\\\n",
    "Then we use the zeros function of the library which returns a new array of given shape and type, filled with zeros."
   ]
  },
  {
   "cell_type": "code",
   "execution_count": null,
   "metadata": {},
   "outputs": [],
   "source": [
    "import numpy as np\n",
    "\n",
    "A = np.zeros((2, 2), dtype=int)\n",
    "print(A)"
   ]
  },
  {
   "cell_type": "markdown",
   "metadata": {},
   "source": [
    "**Exercice :**\\\n",
    "Importing the python math module is performing a square root of x."
   ]
  },
  {
   "cell_type": "code",
   "execution_count": null,
   "metadata": {},
   "outputs": [],
   "source": [
    "x = 16\n",
    "\n",
    "# code here"
   ]
  },
  {
   "cell_type": "markdown",
   "metadata": {},
   "source": [
    "**Expected result :** ```4.0```"
   ]
  },
  {
   "cell_type": "markdown",
   "metadata": {},
   "source": [
    "## List\n",
    "\n",
    "List is a **built-in** data structure in Python.\\\n",
    "It can be used to store **any data type** or a mixture of different data types.\\\n",
    "Lists are **mutable** which is one of the reasons why they are so commonly used.\\\n",
    "\n",
    "I invite you to take a look at array slicing with the operator ```:```\\\n",
    "It's up to you to test and understand what the examples below do.\n",
    "\n",
    "[Learn Python List](https://docs.python.org/fr/3/tutorial/datastructures.html)\n",
    "\n",
    "**Example :**\\\n",
    "Here is an example of initialization of a list.\\\n",
    "We also use the append method which allows us to add a value at the end of the list."
   ]
  },
  {
   "cell_type": "code",
   "execution_count": null,
   "metadata": {},
   "outputs": [],
   "source": [
    "my_list = [1, 2, 3, 4]\n",
    "print(my_list)\n",
    "\n",
    "my_list.append(5)\n",
    "print(my_list)\n",
    "\n",
    "print(my_list[:2])\n",
    "\n",
    "print(my_list[2:])\n",
    "\n",
    "print(my_list[2:3])"
   ]
  },
  {
   "cell_type": "markdown",
   "metadata": {},
   "source": [
    "Pretty simple, isn't it?\n",
    "\n",
    "It's your turn to play!\\\n",
    "\n",
    "**Exercice :**\\\n",
    "write a function that allows you to find the lowest value in a list.\\\n",
    "You **should not** use ```min``` fonction."
   ]
  },
  {
   "cell_type": "code",
   "execution_count": null,
   "metadata": {},
   "outputs": [],
   "source": [
    "# code here\n",
    "\n",
    "smallest_num_in_list([1, 2, -8, 0])"
   ]
  },
  {
   "cell_type": "markdown",
   "metadata": {},
   "source": [
    "**Expected result :** ```-8```"
   ]
  },
  {
   "cell_type": "markdown",
   "metadata": {},
   "source": [
    "In data science, it is common to normalize the data between 0 and 1 in order to reduce the gap between the values and to optimize the training of a model. \n",
    "\n",
    "**Exercice :**\\\n",
    "Write a function that normalizes the values of a list between 0 and 1."
   ]
  },
  {
   "cell_type": "code",
   "execution_count": null,
   "metadata": {},
   "outputs": [],
   "source": [
    "# code here\n",
    "\n",
    "normalize_a_list([1, 3, 4, 2, 10])"
   ]
  },
  {
   "cell_type": "markdown",
   "metadata": {},
   "source": [
    "**Expected result :**\\\n",
    "0.1\\\n",
    "0.3\\\n",
    "0.4\\\n",
    "0.2\\\n",
    "1.0"
   ]
  },
  {
   "cell_type": "markdown",
   "metadata": {},
   "source": [
    "## Tuple & Set\n",
    "\n",
    "Lists, tuples, and sets are 3 important types of objects.\\\n",
    "What they have in common is that they are used as data structures.\\\n",
    "In order to create robust and well-performing products, one must know the data structures of a programming language very well.\n",
    "\n",
    "#### Tuple\n",
    "\n",
    "Tuple is a collection of values separated by comma and enclosed in parenthesis.\\\n",
    "Unlike lists, tuples are **immutable**.\\\n",
    "The immutability can be considered as the identifying feature of tuples.\n",
    "\n",
    "**Example :**"
   ]
  },
  {
   "cell_type": "code",
   "execution_count": null,
   "metadata": {},
   "outputs": [],
   "source": [
    "mytuple = (\"apple\", \"banana\", \"cherry\")\n",
    "mytuple"
   ]
  },
  {
   "cell_type": "markdown",
   "metadata": {},
   "source": [
    "#### Set\n",
    "\n",
    "Set is an **unordered** collection of distinct immutable objects.\\\n",
    "A set contains **unique elements.**\\\n",
    "Although sets are **mutable**, the elements of sets must be immutable.\\\n",
    "There is no order associated with the elements of a set.\\\n",
    "Thus, it does not support indexing or slicing like we do with lists.\n",
    "\n",
    "**Example :**"
   ]
  },
  {
   "cell_type": "code",
   "execution_count": null,
   "metadata": {},
   "outputs": [],
   "source": [
    "myset = {\"apple\", \"banana\", \"cherry\"}\n",
    "myset"
   ]
  },
  {
   "cell_type": "markdown",
   "metadata": {},
   "source": [
    "![listvstuplevsset](./image/listvstuplevsset.png)"
   ]
  },
  {
   "cell_type": "markdown",
   "metadata": {},
   "source": [
    "**Exercice :**\\\n",
    "Create a list of tuples, where each element n is a tuple with the value n of the list and n of the list2"
   ]
  },
  {
   "cell_type": "code",
   "execution_count": null,
   "metadata": {},
   "outputs": [],
   "source": [
    "list1 = [1, 2, 3, 4]\n",
    "list2 = [5, 6, 7, 8]\n",
    "\n",
    "# code here\n",
    "\n",
    "my_list_of_tuples(list1, list2)"
   ]
  },
  {
   "cell_type": "markdown",
   "metadata": {},
   "source": [
    "**Result expected :** ```[(1,5), (2,6), (3,7), (4,8)]```"
   ]
  },
  {
   "cell_type": "markdown",
   "metadata": {},
   "source": [
    "**Exercice :**\\\n",
    "Display all members of set1 that do not appear in set2"
   ]
  },
  {
   "cell_type": "code",
   "execution_count": null,
   "metadata": {},
   "outputs": [],
   "source": [
    "myset1 = {\"apple\", \"banana\", \"lemon\", \"tomato\", \"cherry\"}\n",
    "myset2 = {\"apple\", \"banana\", \"cherry\"}\n",
    "\n",
    "# code here\n",
    "\n",
    "set_difference(myset1, myset2)"
   ]
  },
  {
   "cell_type": "markdown",
   "metadata": {},
   "source": [
    "**Result expected :** ```{'lemon', 'tomato'}```"
   ]
  },
  {
   "cell_type": "markdown",
   "metadata": {},
   "source": [
    "# Dictionaries"
   ]
  },
  {
   "cell_type": "markdown",
   "metadata": {},
   "source": [
    "Dictionaries are used to store data values in **key:value** pairs.\\\n",
    "A dictionary is a collection which is ordered, changeable and does not allow duplicates.\n",
    "(Note: Dictionaries are often called 'map' or 'hashmap' in many other languages.)\n",
    "\n",
    "**Example :**"
   ]
  },
  {
   "cell_type": "code",
   "execution_count": null,
   "metadata": {},
   "outputs": [],
   "source": [
    "thisdict = {\n",
    "  \"Organization\": \"PoC\",\n",
    "  \"Field\": \"AI\",\n",
    "  \"number\": 1\n",
    "}\n",
    "thisdict"
   ]
  },
  {
   "cell_type": "markdown",
   "metadata": {},
   "source": [
    "**Exercice**:\\\n",
    "Write a function named: ```count_occurences``` that takes as parameter a list named ```my_list```.\\\n",
    "Create a dictionary that counts the number of occurrences of each element.\\\n",
    "return this dictionary."
   ]
  },
  {
   "cell_type": "code",
   "execution_count": null,
   "metadata": {},
   "outputs": [],
   "source": [
    "# code here\n",
    "\n",
    "count_occurences(['Robot', 'Tool', 'Computer', 'Robot', 'Keyboard', 'AI', 'Robot', 'AI', 'AI', 'AI'])"
   ]
  },
  {
   "cell_type": "markdown",
   "metadata": {},
   "source": [
    "**Expected result :** ```{'Robot': 3, 'Tool': 1, 'Computer': 1, 'Keyboard': 1, 'AI': 4}```"
   ]
  },
  {
   "cell_type": "markdown",
   "metadata": {},
   "source": [
    "**Exercice:**\\\n",
    "Write a Python function to sort a dictionary by keys.\\\n",
    "Then write a Python function to sort a dictionary by values."
   ]
  },
  {
   "cell_type": "code",
   "execution_count": null,
   "metadata": {},
   "outputs": [],
   "source": [
    "my_dict = {'A':3,\n",
    "          'D':7,\n",
    "          'B':4,\n",
    "          'C':15\n",
    "}\n",
    "\n",
    "def sort_by_key(my_dict):\n",
    "    # code here\n",
    "    \n",
    "def sort_by_value(my_dict):\n",
    "    # code here\n",
    "\n",
    "sort_by_key(my_dict)\n",
    "print()\n",
    "sort_by_value(my_dict)"
   ]
  },
  {
   "cell_type": "markdown",
   "metadata": {},
   "source": [
    "**Expected result :**\\\n",
    "A 3\\\n",
    "B 4\\\n",
    "C 15\\\n",
    "D 7\n",
    "\n",
    "A 3\\\n",
    "B 4\\\n",
    "D 7\\\n",
    "C 15"
   ]
  },
  {
   "cell_type": "markdown",
   "metadata": {},
   "source": [
    "## Try... Except and Raise\n",
    "\n",
    "Even if a statement or expression is syntactically correct,\n",
    "it may cause an error when an attempt is made to execute it.\\\n",
    "Errors detected during execution are called exceptions and are not unconditionally fatal: you will soon learn how to handle them in Python programs.\n",
    "\n",
    "**Example :**\\\n",
    "The code below produces an error.\\\n",
    "Here are the errors that can occur in Python: [errors Python](https://www.tutorialsteacher.com/python/error-types-in-python)"
   ]
  },
  {
   "cell_type": "code",
   "execution_count": null,
   "metadata": {},
   "outputs": [],
   "source": [
    "a = [\"a\", \"b\"]\n",
    "int(a)"
   ]
  },
  {
   "cell_type": "markdown",
   "metadata": {},
   "source": [
    "To be able to manage the errors, we use ```try``` and ```except``` keywords.\\\n",
    "At first, the block try is executed, if an error is encountered the block except is executed.\\\n",
    "If no error is encountered, then the except block is ignored.\\\n",
    "It is possible to catch all types of errors with except, it is only needed to not specify any type of error.\\\n",
    "However, it is advisable to specify the potential errors types according to the Python documentation."
   ]
  },
  {
   "cell_type": "code",
   "execution_count": null,
   "metadata": {},
   "outputs": [],
   "source": [
    "a = [\"a\", \"b\"]\n",
    "try:\n",
    "    int(a)\n",
    "except TypeError as Err:\n",
    "    print(\"Error detected: TypeError\")"
   ]
  },
  {
   "cell_type": "markdown",
   "metadata": {},
   "source": [
    "The ```raise``` keyword is used to raise an exception.\\\n",
    "You can define what kind of error to raise, and the text to print to the user.\n",
    "\n",
    "**Example :**"
   ]
  },
  {
   "cell_type": "code",
   "execution_count": null,
   "metadata": {},
   "outputs": [],
   "source": [
    "x = -1\n",
    "\n",
    "if x < 0:\n",
    "  raise Exception(\"Sorry, no numbers below zero\")"
   ]
  },
  {
   "cell_type": "markdown",
   "metadata": {},
   "source": [
    "**Exercice :**\\\n",
    "Write a function that produces an error, so that it executes anyway without removing the keyword ```raise```."
   ]
  },
  {
   "cell_type": "code",
   "execution_count": 1,
   "metadata": {},
   "outputs": [
    {
     "ename": "KeyboardInterrupt",
     "evalue": "",
     "output_type": "error",
     "traceback": [
      "\u001b[0;31m---------------------------------------------------------------------------\u001b[0m",
      "\u001b[0;31mKeyboardInterrupt\u001b[0m                         Traceback (most recent call last)",
      "\u001b[0;32m/tmp/ipykernel_21005/1126293932.py\u001b[0m in \u001b[0;36m<module>\u001b[0;34m\u001b[0m\n\u001b[1;32m      5\u001b[0m     \u001b[0mprint\u001b[0m\u001b[0;34m(\u001b[0m\u001b[0mvalue\u001b[0m\u001b[0;34m)\u001b[0m\u001b[0;34m\u001b[0m\u001b[0;34m\u001b[0m\u001b[0m\n\u001b[1;32m      6\u001b[0m \u001b[0;34m\u001b[0m\u001b[0m\n\u001b[0;32m----> 7\u001b[0;31m \u001b[0mmy_error\u001b[0m\u001b[0;34m(\u001b[0m\u001b[0;34m\"bonjour\"\u001b[0m\u001b[0;34m)\u001b[0m\u001b[0;34m\u001b[0m\u001b[0;34m\u001b[0m\u001b[0m\n\u001b[0m",
      "\u001b[0;32m/tmp/ipykernel_21005/1126293932.py\u001b[0m in \u001b[0;36mmy_error\u001b[0;34m(value)\u001b[0m\n\u001b[1;32m      2\u001b[0m \u001b[0;34m\u001b[0m\u001b[0m\n\u001b[1;32m      3\u001b[0m \u001b[0;32mdef\u001b[0m \u001b[0mmy_error\u001b[0m\u001b[0;34m(\u001b[0m\u001b[0mvalue\u001b[0m\u001b[0;34m)\u001b[0m\u001b[0;34m:\u001b[0m\u001b[0;34m\u001b[0m\u001b[0;34m\u001b[0m\u001b[0m\n\u001b[0;32m----> 4\u001b[0;31m     \u001b[0;32mraise\u001b[0m\u001b[0;34m(\u001b[0m\u001b[0mKeyboardInterrupt\u001b[0m\u001b[0;34m)\u001b[0m\u001b[0;34m\u001b[0m\u001b[0;34m\u001b[0m\u001b[0m\n\u001b[0m\u001b[1;32m      5\u001b[0m     \u001b[0mprint\u001b[0m\u001b[0;34m(\u001b[0m\u001b[0mvalue\u001b[0m\u001b[0;34m)\u001b[0m\u001b[0;34m\u001b[0m\u001b[0;34m\u001b[0m\u001b[0m\n\u001b[1;32m      6\u001b[0m \u001b[0;34m\u001b[0m\u001b[0m\n",
      "\u001b[0;31mKeyboardInterrupt\u001b[0m: "
     ]
    }
   ],
   "source": [
    "# code here\n",
    "\n",
    "def my_error(value):\n",
    "    raise(KeyboardInterrupt)\n",
    "    print(value)\n",
    "\n",
    "my_error(\"bonjour\")"
   ]
  },
  {
   "cell_type": "markdown",
   "metadata": {},
   "source": [
    "**Expected result :** ```bonjour```"
   ]
  },
  {
   "cell_type": "markdown",
   "metadata": {},
   "source": [
    "## With keyword\n",
    "\n",
    "To read a file we usually use the open function followed by the read method.\\\n",
    "It is important to remember to close the file you are opening.\n",
    "\n",
    "**Example :**"
   ]
  },
  {
   "cell_type": "code",
   "execution_count": null,
   "metadata": {},
   "outputs": [],
   "source": [
    "fd = open(\"./data/example.txt\", \"r\")\n",
    "try:\n",
    "    content = fd.read()\n",
    "    print(content)\n",
    "finally:\n",
    "    fd.close()"
   ]
  },
  {
   "cell_type": "markdown",
   "metadata": {},
   "source": [
    "In python the with keyword is used when working with unmanaged resources (like file streams).\\\n",
    "It is similar to the use statement in VB.NET and C#.\\\n",
    "It allows you to ensure that a resource is \"cleaned up\" when the code that uses it finishes running, even if exceptions are thrown. \n",
    "\n",
    "**Exercice :**\\\n",
    "read the file ```./data/exercice.txt``` by managing it using the keyword ```with```"
   ]
  },
  {
   "cell_type": "code",
   "execution_count": null,
   "metadata": {},
   "outputs": [],
   "source": [
    "# code here"
   ]
  },
  {
   "cell_type": "markdown",
   "metadata": {},
   "source": [
    "**Result expected :** ```don't bother closing the file the with keyword does it automatically when you leave its scope.```"
   ]
  },
  {
   "cell_type": "markdown",
   "metadata": {},
   "source": [
    "Now I hope you will use it whenever you can."
   ]
  },
  {
   "cell_type": "markdown",
   "metadata": {},
   "source": [
    "## Classes and Heritages\n",
    "\n",
    "Classes is what we call **Object Oriented Programming** (OOP) and is essential in a vast number of languages.\n",
    "To vulgarize, classes are sort of mold used to create **object**. Once you've the molds, you can create as many objects of the same type as you want. This is used in every import you do, any functions from libraries are **methods** from classes.\n",
    "Their names are often written with a uppercase at the beginning. \n",
    "\n",
    "If you want to get deeper in this notion,\\\n",
    "I highly recommend you to search on Internet. It's a highly well explained subject.\\\n",
    "[Python classes doc](https://docs.python.org/3/tutorial/classes.html)\n",
    "\n",
    "**Example :**\\\n",
    "Here is an example of a class, to help understand here are some remarks on the code :\n",
    "\n",
    "- variables that start with __ are called private\n",
    "- the method \\_\\_init__ is the constructor, it is called at the instanciation of the object.\n",
    "- the method \\_\\_str__ is a method that describes the object.\n"
   ]
  },
  {
   "cell_type": "code",
   "execution_count": null,
   "metadata": {},
   "outputs": [],
   "source": [
    "class MyClass:\n",
    "    '''This is my first class in Python'''\n",
    "    def __init__(self, name, firstname, fav_color, fav_digit):\n",
    "        self.name = name\n",
    "        self.firstname = firstname\n",
    "        self.setFavColor(fav_color)\n",
    "        self.setFavDigit(fav_digit)\n",
    "        \n",
    "    def __str__(self):\n",
    "        return f'Your name is {self.firstname} {self.name}, your favorite color is {self.getFavColor()} and your favorite number is {self.getFavDigit()}'\n",
    "        \n",
    "    def setFavColor(self, fav_color):\n",
    "        color = [\"red\", \"blue\", \"purple\", \"green\", \"yellow\", \"orange\", \"white\", \"black\", \"pink\", \"brown\"]\n",
    "        if fav_color in color:\n",
    "            self.__fav_color = fav_color\n",
    "        else:\n",
    "            self.__fav_color = None\n",
    "        \n",
    "    def setFavDigit(self, fav_digit):\n",
    "        if isinstance(fav_digit, int) and -1 < fav_digit < 10:\n",
    "            self.__fav_digit = fav_digit\n",
    "        else:\n",
    "            self.__fav_digit = None\n",
    "        \n",
    "    def getFavDigit(self):\n",
    "        return self.__fav_digit    \n",
    "     \n",
    "    def getFavColor(self):\n",
    "        return self.__fav_color    \n",
    "    \n",
    "robot = MyClass(\"Robot\", \"PoC\", \"red\", 5)\n",
    "print(robot)"
   ]
  },
  {
   "cell_type": "markdown",
   "metadata": {},
   "source": [
    "**Exercice :**\\\n",
    "Create a ```Calculator``` class.\n",
    "\n",
    "It will take as initialization parameter a ```name``` value.\\\n",
    "it will have the methods ```add```, ```sub```, ```mul```, ```div```, ```modulo``` which will take two parameters ```x``` and ```y``` and will return the result of the operation corresponding to the name of each method between x and y.\\\n",
    "Create a method ```__str__``` that will return ```Hello my name is {name}.```"
   ]
  },
  {
   "cell_type": "code",
   "execution_count": null,
   "metadata": {},
   "outputs": [],
   "source": [
    "# code here\n",
    "        \n",
    "my_calc = Calculator(\"PoC\")\n",
    "print(my_calc)\n",
    "print(my_calc.add(1, 2))\n",
    "print(my_calc.mul(1, 2))\n",
    "print(my_calc.sub(1, 2))\n",
    "print(my_calc.div(1, 2))\n",
    "print(my_calc.modulo(1, 2))"
   ]
  },
  {
   "cell_type": "markdown",
   "metadata": {},
   "source": [
    "**Expected result :**\\\n",
    "Hello my name is PoC.\\\n",
    "3\\\n",
    "2\\\n",
    "-1\\\n",
    "0.5\\\n",
    "1"
   ]
  },
  {
   "cell_type": "markdown",
   "metadata": {},
   "source": [
    "\n",
    "**Exercice:**\\\n",
    "Define a class ```Neuron```. This class takes as a parameter a number representing the maximum size of information that this neuron can process.\n",
    "\n",
    "Create an isEven() method in the Neuron class that takes as parameter a list of numbers.\\\n",
    "If the list of numbers exceeds the maximum size of the information that the neuron can process, you must display ```List too big.```,\\\n",
    "otherwise you must go through the whole list and display \"Even\" if the number is even otherwise \"Odd\"."
   ]
  },
  {
   "cell_type": "code",
   "execution_count": null,
   "metadata": {},
   "outputs": [],
   "source": [
    "# code here\n",
    "\n",
    "neuron1 = Neuron(4)\n",
    "neuron2 = Neuron(5)\n",
    "neuron1.isEven([3, 5, 0, 5, 8])\n",
    "print()\n",
    "neuron2.isEven([3, 5, 0, 5, 8])"
   ]
  },
  {
   "cell_type": "markdown",
   "metadata": {},
   "source": [
    "**Expected result :**\\\n",
    "Liste too big.\n",
    "\n",
    "Odd\\\n",
    "Odd\\\n",
    "Even\\\n",
    "Odd\\\n",
    "Even"
   ]
  },
  {
   "cell_type": "markdown",
   "metadata": {},
   "source": [
    "Well done, you have just completed the first class of this week.\\\n",
    "You have now mastered the basics of Python, this will be useful for the rest, good luck!"
   ]
  }
 ],
 "metadata": {
  "interpreter": {
   "hash": "916dbcbb3f70747c44a77c7bcd40155683ae19c65e1c03b4aa3499c5328201f1"
  },
  "kernelspec": {
   "display_name": "Python 3.9.5 64-bit",
   "name": "python3"
  },
  "language_info": {
   "codemirror_mode": {
    "name": "ipython",
    "version": 3
   },
   "file_extension": ".py",
   "mimetype": "text/x-python",
   "name": "python",
   "nbconvert_exporter": "python",
   "pygments_lexer": "ipython3",
   "version": "3.9.5"
  }
 },
 "nbformat": 4,
 "nbformat_minor": 5
}
