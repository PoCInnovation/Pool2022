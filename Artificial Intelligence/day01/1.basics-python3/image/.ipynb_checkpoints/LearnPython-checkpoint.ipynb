{
 "cells": [
  {
   "cell_type": "markdown",
   "id": "f08787d8",
   "metadata": {},
   "source": [
    "# Learn Python Basics"
   ]
  },
  {
   "cell_type": "markdown",
   "id": "8c4a8b41",
   "metadata": {},
   "source": [
    "Well, hello everybody and welcome to our workshop, the purpose of which is to expand and improve the capacity of our robot. I hope you guys are ready because this is so much fun! Throughout this workshop, you will learn so many new and exciting things so don’t forget to take notes and don’t be shy, the supervising staff is here to answer all your questions. Are you ready? Let’s go!  \n",
    "\n",
    "Made by [Albert Valentin](https://github.com/OnsagerHe) and [David Gozlan](https://github.com/Davphla)"
   ]
  },
  {
   "cell_type": "markdown",
   "id": "9a03049d",
   "metadata": {},
   "source": [
    "## What is Python exactly?\n",
    "Python is an interpreted high-level programming language that's focused on its readability and its simple synthax, which facilitates a lot collaborations.\\\n",
    "It's widly used in the research domains and the world of mathematics, mostly by Data Scientists and Researcher in a lot of domains."
   ]
  },
  {
   "cell_type": "markdown",
   "id": "76e4b94a",
   "metadata": {},
   "source": [
    "## Variables\n",
    "\n",
    "Houston, we have a problem. Indeed, we sent to our robot a file that allows it to recognize if a number is even or odd. Unfortunately, the file is full of incorrect syntaxes, so we need you!  \n",
    "\n",
    "For your first mission, you must correct errors in the syntax and fix the algorithm if it’s not working. \n",
    "[Learn Python Variable](https://www.w3schools.com/python/python_variables.asp)"
   ]
  },
  {
   "cell_type": "code",
   "execution_count": 5,
   "id": "3b8cdd6b",
   "metadata": {},
   "outputs": [
    {
     "name": "stdout",
     "output_type": "stream",
     "text": [
      "0 Not yet\n",
      "1 Not yet\n",
      "2 Not yet\n",
      "3 Not yet\n",
      "4 Not yet\n",
      "5 Not yet\n",
      "6 Not yet\n",
      "7 Not yet\n",
      "8 Not yet\n",
      "9 Not yet\n",
      "10 Not yet\n",
      "11 Not yet\n",
      "12 Not yet\n",
      "13 Not yet\n",
      "14 Not yet\n",
      "15 Success\n"
     ]
    }
   ],
   "source": [
    "max = 16\n",
    "goal = 15\n",
    "victory = \"Success\"\n",
    "retry = \"Not yet\"\n",
    "\n",
    "for i in range(0, max):\n",
    "    if (i == goal):\n",
    "        print(i, victory)\n",
    "        break\n",
    "    print(i, retry)"
   ]
  },
  {
   "cell_type": "markdown",
   "id": "4d78c04a",
   "metadata": {},
   "source": [
    "## Operations\n",
    "\n",
    "Alright! Great job! So, our robot can recognize if a number is even or odd thanks to you, but we still need your precious help. In fact, we want our robot to execute a bunch of operation and the first thing we need is our robot to express itself. This is where you come in. We need you to allow the robot to say its first word by concatenating two strings! \n",
    "\n",
    "Create a function like concatenation_number but for assembly two string. \n",
    "\n",
    "[Learn Python Operators](https://www.w3schools.com/python/python_operators.asp)\n",
    "[Standard operators Python](https://docs.python.org/3/library/operator.html)"
   ]
  },
  {
   "cell_type": "code",
   "execution_count": 2,
   "id": "e6067309",
   "metadata": {
    "scrolled": true
   },
   "outputs": [
    {
     "name": "stdout",
     "output_type": "stream",
     "text": [
      "4\n"
     ]
    }
   ],
   "source": [
    "def concatenation_number(x, y):\n",
    "    return x + y\n",
    "\n",
    "result = concatenation_number(1, 3)\n",
    "print(result)"
   ]
  },
  {
   "cell_type": "markdown",
   "id": "d0007648",
   "metadata": {},
   "source": [
    "Ok, so you are clearly a professional! Let’s see if we can make things less easy for you because, obviously, you are good for this.  "
   ]
  },
  {
   "cell_type": "markdown",
   "id": "a0e918ff",
   "metadata": {},
   "source": [
    "## Conditions"
   ]
  },
  {
   "cell_type": "markdown",
   "id": "b9770ae0",
   "metadata": {},
   "source": [
    "It’s time for you to create a function that will allow our robot to know how much there is multiple of 3 and 5 between 0 and 7854. For this kind of function, the modulo sign “%” is important and necessary so don’t be afraid to find the signification of it.  \n",
    "\n",
    "[Learn Python Conditions](https://www.w3schools.com/python/python_conditions.asp)\n",
    "[Standard Python Condition](https://python.doctor/page-apprendre-conditions-structures-conditionnelles-if-else-python-cours-debutant)\n"
   ]
  },
  {
   "cell_type": "code",
   "execution_count": 3,
   "id": "9bd830d3",
   "metadata": {},
   "outputs": [],
   "source": [
    "## Write your function here"
   ]
  },
  {
   "cell_type": "markdown",
   "id": "981d60fc",
   "metadata": {},
   "source": [
    "## List\n",
    "It is very important to understand how a list works. There are different ways to browse a list.\n",
    "Il est très important de comprendre comment fonctionne une liste. Il y a différentes manières de parcourir une liste.\n",
    "\n",
    "Here are operations that we can apply on lists or numpy arrays.\n",
    "\n",
    "I invite you to remember the slicing with the operator:\n",
    "It's up to you to test and understand what the examples below do.\n",
    "\n",
    "[Learn Python List](https://docs.python.org/fr/3/tutorial/datastructures.html)"
   ]
  },
  {
   "cell_type": "code",
   "execution_count": 4,
   "id": "2690db87",
   "metadata": {},
   "outputs": [
    {
     "name": "stdout",
     "output_type": "stream",
     "text": [
      "6\n"
     ]
    }
   ],
   "source": [
    "x = [1, 2, 3, 4, 5, 6]\n",
    "print(len(x))"
   ]
  },
  {
   "cell_type": "code",
   "execution_count": 5,
   "id": "c15b93ff",
   "metadata": {},
   "outputs": [
    {
     "data": {
      "text/plain": [
       "[1, 2, 3]"
      ]
     },
     "execution_count": 5,
     "metadata": {},
     "output_type": "execute_result"
    }
   ],
   "source": [
    "x[:3]"
   ]
  },
  {
   "cell_type": "code",
   "execution_count": 6,
   "id": "42a3e573",
   "metadata": {},
   "outputs": [
    {
     "data": {
      "text/plain": [
       "[4, 5, 6]"
      ]
     },
     "execution_count": 6,
     "metadata": {},
     "output_type": "execute_result"
    }
   ],
   "source": [
    "x[3:]"
   ]
  },
  {
   "cell_type": "code",
   "execution_count": 7,
   "id": "454b8a62",
   "metadata": {},
   "outputs": [
    {
     "data": {
      "text/plain": [
       "[5, 6]"
      ]
     },
     "execution_count": 7,
     "metadata": {},
     "output_type": "execute_result"
    }
   ],
   "source": [
    "x[-2:]"
   ]
  },
  {
   "cell_type": "code",
   "execution_count": 8,
   "id": "787528c7",
   "metadata": {},
   "outputs": [
    {
     "data": {
      "text/plain": [
       "[1, 2, 3, 4, 5, 6, 7, 8]"
      ]
     },
     "execution_count": 8,
     "metadata": {},
     "output_type": "execute_result"
    }
   ],
   "source": [
    "x.extend([7,8])\n",
    "x"
   ]
  },
  {
   "cell_type": "code",
   "execution_count": 9,
   "id": "cc85c441",
   "metadata": {},
   "outputs": [
    {
     "data": {
      "text/plain": [
       "[1, 2, 3, 4, 5, 6, 7, 8, 9]"
      ]
     },
     "execution_count": 9,
     "metadata": {},
     "output_type": "execute_result"
    }
   ],
   "source": [
    "x.append(9)\n",
    "x"
   ]
  },
  {
   "cell_type": "code",
   "execution_count": 10,
   "id": "2fe3bb26",
   "metadata": {},
   "outputs": [
    {
     "data": {
      "text/plain": [
       "[[1, 2, 3, 4, 5, 6, 7, 8, 9], [10, 11, 12]]"
      ]
     },
     "execution_count": 10,
     "metadata": {},
     "output_type": "execute_result"
    }
   ],
   "source": [
    "y = [10, 11, 12]\n",
    "listOfLists = [x, y]\n",
    "listOfLists"
   ]
  },
  {
   "cell_type": "code",
   "execution_count": 11,
   "id": "ff3a89cb",
   "metadata": {},
   "outputs": [
    {
     "data": {
      "text/plain": [
       "11"
      ]
     },
     "execution_count": 11,
     "metadata": {},
     "output_type": "execute_result"
    }
   ],
   "source": [
    "y[1]"
   ]
  },
  {
   "cell_type": "code",
   "execution_count": 12,
   "id": "a00c0329",
   "metadata": {},
   "outputs": [
    {
     "data": {
      "text/plain": [
       "[1, 2, 3]"
      ]
     },
     "execution_count": 12,
     "metadata": {},
     "output_type": "execute_result"
    }
   ],
   "source": [
    "z = [3, 2, 1]\n",
    "z.sort()\n",
    "z"
   ]
  },
  {
   "cell_type": "code",
   "execution_count": 13,
   "id": "b66930e0",
   "metadata": {},
   "outputs": [
    {
     "data": {
      "text/plain": [
       "[3, 2, 1]"
      ]
     },
     "execution_count": 13,
     "metadata": {},
     "output_type": "execute_result"
    }
   ],
   "source": [
    "z.sort(reverse=True)\n",
    "z"
   ]
  },
  {
   "cell_type": "markdown",
   "id": "189fe29f",
   "metadata": {},
   "source": [
    "**Now is the time to test the robot's accuracy and comprehesion.**\n",
    "\n",
    "Writes a program that allows it to delete all words with a size other than seven characters and then display the words in alphabetical order."
   ]
  },
  {
   "cell_type": "code",
   "execution_count": 14,
   "id": "d2679aec",
   "metadata": {},
   "outputs": [],
   "source": [
    "my_list = [\n",
    "    \"It's   \", \"Hello\", \"Yet\", \"Maybe\"\n",
    ", \"No\", \"For\", \"Yes\", \"Success\", \"Oups\", \"Above\", \"AIIIe\", \"AHAH\"]\n",
    "\n",
    "# your code goes here"
   ]
  },
  {
   "cell_type": "markdown",
   "id": "4b777d4c",
   "metadata": {},
   "source": [
    "## Modularités\n",
    "In this language you can call differents librairies or function in differents files.\n",
    "\n",
    "Write two function and use the module \"math\":\n",
    "\n",
    "Example:\n",
    "\n",
    "value = math.sum(3 + 4)\n",
    "print(value) ## Commentaire: 7\n",
    "\n",
    "You must create function that return the square root of parameter number and another that return the exponentiel.\n",
    "\n",
    "[Learn Module Python](https://docs.python.org/3/reference/import.html)\n",
    "[Standard Module Python](https://docs.python.org/3/tutorial/modules.html)"
   ]
  },
  {
   "cell_type": "code",
   "execution_count": 15,
   "id": "e2c8c5f4",
   "metadata": {},
   "outputs": [
    {
     "ename": "NameError",
     "evalue": "name 'math' is not defined",
     "output_type": "error",
     "traceback": [
      "\u001b[0;31m---------------------------------------------------------------------------\u001b[0m",
      "\u001b[0;31mNameError\u001b[0m                                 Traceback (most recent call last)",
      "\u001b[0;32m/tmp/ipykernel_43214/458173287.py\u001b[0m in \u001b[0;36m<module>\u001b[0;34m\u001b[0m\n\u001b[1;32m      6\u001b[0m \u001b[0;31m## Set variable and call the function of your librairies.\u001b[0m\u001b[0;34m\u001b[0m\u001b[0;34m\u001b[0m\u001b[0;34m\u001b[0m\u001b[0m\n\u001b[1;32m      7\u001b[0m \u001b[0;31m## The function fsum return an accurate floating point sum of values in the iterable.\u001b[0m\u001b[0;34m\u001b[0m\u001b[0;34m\u001b[0m\u001b[0;34m\u001b[0m\u001b[0m\n\u001b[0;32m----> 8\u001b[0;31m \u001b[0mvalue\u001b[0m \u001b[0;34m=\u001b[0m \u001b[0mmath\u001b[0m\u001b[0;34m.\u001b[0m\u001b[0mfsum\u001b[0m\u001b[0;34m(\u001b[0m\u001b[0;34m[\u001b[0m\u001b[0;36m.1\u001b[0m\u001b[0;34m,\u001b[0m \u001b[0;36m.1\u001b[0m\u001b[0;34m,\u001b[0m \u001b[0;36m.1\u001b[0m\u001b[0;34m,\u001b[0m \u001b[0;36m.1\u001b[0m\u001b[0;34m,\u001b[0m \u001b[0;36m.1\u001b[0m\u001b[0;34m,\u001b[0m \u001b[0;36m.1\u001b[0m\u001b[0;34m,\u001b[0m \u001b[0;36m.1\u001b[0m\u001b[0;34m,\u001b[0m \u001b[0;36m.1\u001b[0m\u001b[0;34m,\u001b[0m \u001b[0;36m.1\u001b[0m\u001b[0;34m,\u001b[0m \u001b[0;36m.1\u001b[0m\u001b[0;34m]\u001b[0m\u001b[0;34m)\u001b[0m\u001b[0;34m\u001b[0m\u001b[0;34m\u001b[0m\u001b[0m\n\u001b[0m\u001b[1;32m      9\u001b[0m \u001b[0;34m\u001b[0m\u001b[0m\n\u001b[1;32m     10\u001b[0m \u001b[0;31m## Print your variable\u001b[0m\u001b[0;34m\u001b[0m\u001b[0;34m\u001b[0m\u001b[0;34m\u001b[0m\u001b[0m\n",
      "\u001b[0;31mNameError\u001b[0m: name 'math' is not defined"
     ]
    }
   ],
   "source": [
    "## EXAMPLE CODE\n",
    "\n",
    "##Import your module (you can precise the function that you want)\n",
    "from math import fsum\n",
    "\n",
    "## Set variable and call the function of your librairies.\n",
    "## The function fsum return an accurate floating point sum of values in the iterable.\n",
    "value = math.fsum([.1, .1, .1, .1, .1, .1, .1, .1, .1, .1])\n",
    "\n",
    "## Print your variable\n",
    "print(value)"
   ]
  },
  {
   "cell_type": "markdown",
   "id": "719541c5",
   "metadata": {},
   "source": [
    "## Special list\n",
    "After seeing how lists can be manipulated, here we have some other type of list.\n",
    "We have **Tuple** (Non mutable list) and **Dictionnary** (Keys=>Value list).\n",
    "\n",
    "### Tuple\n",
    "Tuple is simply an non mutable list, it means it's constant once you've set up element inside. You can define one using parenthesis.\n",
    "[Learn Python Tuple](https://docs.python.org/3/tutorial/datastructures.html)"
   ]
  },
  {
   "cell_type": "code",
   "execution_count": 16,
   "id": "46064d3a",
   "metadata": {
    "scrolled": true
   },
   "outputs": [
    {
     "ename": "TypeError",
     "evalue": "'tuple' object does not support item assignment",
     "output_type": "error",
     "traceback": [
      "\u001b[0;31m---------------------------------------------------------------------------\u001b[0m",
      "\u001b[0;31mTypeError\u001b[0m                                 Traceback (most recent call last)",
      "\u001b[0;32m/tmp/ipykernel_43214/1633549387.py\u001b[0m in \u001b[0;36m<module>\u001b[0;34m\u001b[0m\n\u001b[1;32m      1\u001b[0m \u001b[0ma\u001b[0m \u001b[0;34m=\u001b[0m \u001b[0;34m(\u001b[0m\u001b[0;36m1\u001b[0m\u001b[0;34m,\u001b[0m \u001b[0;36m2\u001b[0m\u001b[0;34m,\u001b[0m \u001b[0;36m3\u001b[0m\u001b[0;34m)\u001b[0m\u001b[0;34m\u001b[0m\u001b[0;34m\u001b[0m\u001b[0m\n\u001b[1;32m      2\u001b[0m \u001b[0;34m\u001b[0m\u001b[0m\n\u001b[0;32m----> 3\u001b[0;31m \u001b[0ma\u001b[0m\u001b[0;34m[\u001b[0m\u001b[0;36m1\u001b[0m\u001b[0;34m]\u001b[0m \u001b[0;34m=\u001b[0m \u001b[0;36m3\u001b[0m\u001b[0;34m\u001b[0m\u001b[0;34m\u001b[0m\u001b[0m\n\u001b[0m\u001b[1;32m      4\u001b[0m \u001b[0;31m# TypeError: 'tuple' object does not support item assignment\u001b[0m\u001b[0;34m\u001b[0m\u001b[0;34m\u001b[0m\u001b[0;34m\u001b[0m\u001b[0m\n",
      "\u001b[0;31mTypeError\u001b[0m: 'tuple' object does not support item assignment"
     ]
    }
   ],
   "source": [
    "a = (1, 2, 3)\n",
    "\n",
    "a[1] = 3\n",
    "# TypeError: 'tuple' object does not support item assignment"
   ]
  },
  {
   "cell_type": "markdown",
   "id": "245a7320",
   "metadata": {},
   "source": [
    "### Dictionnairies\n",
    "Dictionnaries are some kind of Keys => Values list, as you can have in JSON configuration files.\n",
    "[Learn Python Dictionnaries](https://docs.python.org/3/tutorial/datastructures.html)"
   ]
  },
  {
   "cell_type": "code",
   "execution_count": 18,
   "id": "fe02a6ab",
   "metadata": {},
   "outputs": [
    {
     "name": "stdout",
     "output_type": "stream",
     "text": [
      "This one is a little robot\n",
      "This one is a BIG robot\n",
      "This one is a smart robot\n"
     ]
    },
    {
     "data": {
      "text/plain": [
       "4"
      ]
     },
     "execution_count": 18,
     "metadata": {},
     "output_type": "execute_result"
    }
   ],
   "source": [
    "dictionnary = {\"robot\": \"This one is a little robot\", \"big_robot\": \"This one is a BIG robot\", \"advanced_robot\": \"This one is a smart robot\"}\n",
    "print(dictionnary[\"robot\"])\n",
    "\n",
    "selector = [\"big_robot\", \"advanced_robot\"]\n",
    "for i in selector:\n",
    "    print(dictionnary[i])\n",
    "\n",
    "operators = {\"+\" : lambda x,y:x+y, \"-\" : lambda x,y:x-y}\n",
    "calcul = \"1+3\"\n",
    "operators[calcul[1]](int(calcul[0]), int(calcul[2]))"
   ]
  },
  {
   "cell_type": "markdown",
   "id": "e4934f78",
   "metadata": {},
   "source": [
    "## Classes and Heritages\n",
    "\n",
    "Classes is what we call **Oriented Object Programming** (Or OOP) and is essential in a vast number of languages.\n",
    "To vulgarize it, classes are sort of mold used to create **object**. Once you've the molds, you can create as many objects of the same type as you want. This is used in every import you do, any functions from libraries are **methods** from classes.\n",
    "There names are often written with a uppercase at the beginning. \n",
    "\n",
    "If you want to get deeper in this notion, I highly recommend you to search on Internet. It's a highly well explained subject that's super well explained.\n",
    "[Python classes doc](https://docs.python.org/3/tutorial/classes.html)\\\n",
    "[OpenClassroom course](https://openclassrooms.com/fr/courses/7150616-apprenez-la-programmation-orientee-objet-avec-python/7195794-creez-et-utilisez-des-objets-python)\n",
    "\n",
    "\n",
    "Because an example is more meaningful than words, here's an exemple.\n",
    "A class made for a robot will have its pure concept of a robot as the mold and your unique handmade robot as an object.\n",
    "We'll have something in these lines.\n"
   ]
  },
  {
   "cell_type": "code",
   "execution_count": 19,
   "id": "bd55cba4",
   "metadata": {},
   "outputs": [
    {
     "name": "stdout",
     "output_type": "stream",
     "text": [
      "[]\n",
      "['Steve']\n",
      "Hello, my name is Steve\n"
     ]
    }
   ],
   "source": [
    "class Robot:\n",
    "    # Variable of a class are called attributes.\n",
    "    # These are accessible from the body of the class with no instanciation at any moment, and can be considered as \"global variable\".\n",
    "    cur_robot = []\n",
    "\n",
    "    # Here's what we call a \"constructor\", it's the part that create the object itself, using instance atribute.\n",
    "    # This is also called the \"instanciation\".\n",
    "    def __init__(self, name = \"unnamed\") -> None:    # \"name\" parameter has a default value \"unnamed\"\n",
    "        if (name in self.cur_robot):\n",
    "            raise ValueError(\"This robot already exist.\")    # Error managing line. If we have two robots with the same name, this will stop the program\n",
    "        \n",
    "        self.cur_robot.append(name) # Self is the variable of the instance. It defines the object.\n",
    "        self.name = name\n",
    "        self.inventory = []\n",
    "        \n",
    "    # \"Method\" are the functions of an objects. It will use its attributes.\n",
    "    # It will interact, and changes the instances of the class.\n",
    "    def add_item(self, item: str):\n",
    "        if (item not in self.inventory):\n",
    "            self.inventory.append(item)\n",
    "    \n",
    "    def speak(self):\n",
    "        print(\"Hello, my name is \" + self.name)\n",
    "   \n",
    "\n",
    "print(Robot.cur_robot)\n",
    "Steve = Robot(\"Steve\")\n",
    "print(Robot.cur_robot)\n",
    "Steve.speak()"
   ]
  },
  {
   "cell_type": "markdown",
   "id": "5dff83b2",
   "metadata": {},
   "source": [
    "## Application\n",
    "Your turn now, using what you've learn, try to apply and create a class that generates more advanced robots!\n",
    "These robots will be able to **walk**, manage their **positions** (and so **coordinates** that can be consultated) and most importantly they will be able to talk to other robots!\n",
    "Good luck and get to us whenever you feel like you didn't understand something."
   ]
  },
  {
   "cell_type": "code",
   "execution_count": 20,
   "id": "0f7a6b5d",
   "metadata": {},
   "outputs": [],
   "source": [
    "class AdvancedRobot:\n",
    "    def __init__(self) -> None:\n",
    "        pass\n",
    "\n",
    "    def walk(self) -> None:\n",
    "        pass\n",
    "\n",
    "    def give_positions(self) -> list: # This one can print too, its your choice!\n",
    "        return\n",
    "\n",
    "    def interact(self, AdvancedRobot) -> None:\n",
    "        pass"
   ]
  },
  {
   "cell_type": "markdown",
   "id": "7f0ef5ce",
   "metadata": {},
   "source": [
    "Secondly, we will have classes inheritance. Classes inheritance is simply a child of the first class that will interact with parents specificities, with all its caracteristic and mostly everything it does. It can be customized, and it's really useful when it comes into complex classes.\n",
    "It's anything harder, there's a lot of specifities but you'll learn it in the long way!"
   ]
  },
  {
   "cell_type": "code",
   "execution_count": 21,
   "id": "38664a4b",
   "metadata": {},
   "outputs": [
    {
     "name": "stdout",
     "output_type": "stream",
     "text": [
      "HELLO I'M THE BIG ROBOT, MY NAME IS Josh\n"
     ]
    }
   ],
   "source": [
    "class BigRobot(Robot):\n",
    "    def __init__(self, name):\n",
    "        super().__init__(name=name)\n",
    "        \n",
    "    def speak(self):\n",
    "        print(\"HELLO I'M THE BIG ROBOT, MY NAME IS \" + self.name.capitalize())\n",
    "\n",
    "big_steve = BigRobot(\"Josh\")\n",
    "big_steve.speak()"
   ]
  },
  {
   "cell_type": "markdown",
   "id": "fabaf4cb",
   "metadata": {},
   "source": [
    "## Final exercise\n",
    "\n",
    "Here we are chief! You come from a long way, but here's the ultimate challenge to apply everything you've learnt. Don't hesitate to recheck anything if you're not sure, and maybe get deeper in a specific notion (And maybe do some Python after this workshop!).\n",
    "\n",
    "The goal of this final exercise is to manage a factory of robot, that are made for listing and sorting elements. These aren't entirely complete, but they can sort a lot of material, and you've to create and adapt the system to make it extensible to all type of data. Good luck!\n",
    "Par contre j'ai pas ton temps, donc débrouille toi là. T'es grand, casse pas les couilles."
   ]
  },
  {
   "cell_type": "code",
   "execution_count": 22,
   "id": "a204b2a6",
   "metadata": {},
   "outputs": [],
   "source": [
    "class Products:\n",
    "    product_type = None\n",
    "    products = []\n",
    "\n",
    "    def __init__(self, products: list, product_type: str) -> None:\n",
    "        self.product_type = product_type\n",
    "        self.products = products\n",
    "\n",
    "\n",
    "class ListingRobot:\n",
    "    \n",
    "    def __init__(self) -> None:\n",
    "        pass\n",
    "    \n",
    "    def add_item(self, item: str) -> None:\n",
    "        pass\n",
    "\n",
    "    def remove_item(self, item_id: int = 0, item_name: str = None) -> None:\n",
    "        pass\n",
    "\n",
    "    def find_item(self, item_id: int = 0, item_name: str = None) -> str:\n",
    "        pass\n",
    "\n",
    "    def sort_items(self) -> None:\n",
    "        pass\n",
    "\n",
    "    def show_item(self) -> None:\n",
    "        pass\n"
   ]
  }
 ],
 "metadata": {
  "interpreter": {
   "hash": "57baa5815c940fdaff4d14510622de9616cae602444507ba5d0b6727c008cbd6"
  },
  "kernelspec": {
   "display_name": "Python 3 (ipykernel)",
   "language": "python",
   "name": "python3"
  },
  "language_info": {
   "codemirror_mode": {
    "name": "ipython",
    "version": 3
   },
   "file_extension": ".py",
   "mimetype": "text/x-python",
   "name": "python",
   "nbconvert_exporter": "python",
   "pygments_lexer": "ipython3",
   "version": "3.9.5"
  }
 },
 "nbformat": 4,
 "nbformat_minor": 5
}
