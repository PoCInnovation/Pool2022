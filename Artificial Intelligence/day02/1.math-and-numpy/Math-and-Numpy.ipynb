{
 "cells": [
  {
   "cell_type": "markdown",
   "id": "b5ff6256",
   "metadata": {},
   "source": [
    "<img src=\"./images/numpy.png\"/>\n",
    "\n",
    "# Math & Numpy\n",
    "\n",
    "Welcome to the second day of the pool.\\\n",
    "In this part you will learn how to build neural networks from scratch.\\\n",
    "These networks will be able to learn from data to make predictions.\n",
    "\n",
    "Obviously, you will quickly discover that building a neural network requires an understanding of certain mathematical concepts.\\\n",
    "There are several libraries, we will use Numpy and you will quickly understand why Numpy and not something else.\n",
    "\n",
    "I want to encourage you not to give up, this part can be hard for more IT than mathematical profiles.\\\n",
    "However, the supervisors are there to answer any problem you don't understand, so don't get stuck."
   ]
  },
  {
   "cell_type": "markdown",
   "id": "aad634a7",
   "metadata": {},
   "source": [
    "You notice that in the next cell, I execute the pip3 install matplotlib command to install the matplotlib libraryusing the python package manager.\\\n",
    "Indeed pip (Pip Installs Packages) is the installer of packages for python.\\\n",
    "Matplotlib is a library that will allow us to visualize functions with graphs.\\\n",
    "It will allow us to visualize the exercises that you will realize."
   ]
  },
  {
   "cell_type": "code",
   "execution_count": null,
   "id": "38d02833",
   "metadata": {},
   "outputs": [],
   "source": [
    "!pip3 install matplotlib\n",
    "import math\n",
    "import matplotlib.pyplot as plt\n",
    "from mpl_toolkits.mplot3d import Axes3D\n",
    "import random"
   ]
  },
  {
   "cell_type": "markdown",
   "id": "b1b53180",
   "metadata": {},
   "source": [
    "In a first part, we will see why we will use Numpy and not the basic Python library for mathematics.\\\n",
    "First we will use the math library.\n",
    "\n",
    "**Exercice :**\\\n",
    "Use the exponential function of the math library with the variable ``data`` as parameter."
   ]
  },
  {
   "cell_type": "code",
   "execution_count": null,
   "id": "44267b1c",
   "metadata": {},
   "outputs": [],
   "source": [
    "data = 2\n",
    "\n",
    "# use exp fonction of math librairie."
   ]
  },
  {
   "cell_type": "markdown",
   "id": "4786ed2b",
   "metadata": {},
   "source": [
    "**Expected result :**\n",
    "```7.38905609893065```"
   ]
  },
  {
   "cell_type": "markdown",
   "id": "ff062e67",
   "metadata": {},
   "source": [
    "Amazing, it works well ...\\\n",
    "Why would we use Numpy if the Math library works?\n",
    "\n",
    "Well, let's try to use the exponential function of Math on an Array.\n",
    "\n",
    "**Exercice:**\\\n",
    "Use a second time the exponential function of the math library."
   ]
  },
  {
   "cell_type": "code",
   "execution_count": null,
   "id": "32e05b6a",
   "metadata": {},
   "outputs": [],
   "source": [
    "data = [2, 4, 7]\n",
    "\n",
    "# use exp fonction of math librairie."
   ]
  },
  {
   "cell_type": "markdown",
   "id": "4e3f064f",
   "metadata": {},
   "source": [
    "**Expected result:** ```TypeError: must be real number, not list```."
   ]
  },
  {
   "cell_type": "markdown",
   "id": "d2b3fd62",
   "metadata": {},
   "source": [
    "You just got an error, and that's quite normal because the math library doesn't allow to work efficiently with arrays, that's exactly where Numpy comes in.\\\n",
    "We will start by installing Numpy and importing it.\n",
    "\n",
    "**Docs:** [Numpy & AI](https://www.youtube.com/watch?v=a3wYV2qXcMY)"
   ]
  },
  {
   "cell_type": "code",
   "execution_count": null,
   "id": "ac6cb5b9",
   "metadata": {},
   "outputs": [],
   "source": [
    "!pip install numpy\n",
    "import numpy as np"
   ]
  },
  {
   "cell_type": "markdown",
   "id": "7ccdeab9",
   "metadata": {},
   "source": [
    "Now we will try to do what we did with the math library with numpy instead.\n",
    "\n",
    "**Exercice:**\n",
    "Use the Numpy exponential function with the parameter ``data''."
   ]
  },
  {
   "cell_type": "code",
   "execution_count": null,
   "id": "db9dd829",
   "metadata": {},
   "outputs": [],
   "source": [
    "data = [2, 4, 7]\n",
    "\n",
    "# use exp fonction of Numpy librairie."
   ]
  },
  {
   "cell_type": "markdown",
   "id": "a248e594",
   "metadata": {},
   "source": [
    "**Expected result:** ```array([   7.3890561 ,   54.59815003, 1096.63315843])```"
   ]
  },
  {
   "cell_type": "markdown",
   "id": "a00a212a",
   "metadata": {},
   "source": [
    "Moreover, you can use Numpy with much more complex shapes."
   ]
  },
  {
   "cell_type": "markdown",
   "id": "89802789",
   "metadata": {},
   "source": [
    "In artificial intelligence, mathematical functions are used for different tasks.\\\n",
    "From the construction of the model, to the training, through the calculation of accuracy, mathematics is the basis of AI.\\\n",
    "The sigmoid function is a function of activate very used in the binary classification.\n",
    "\n",
    "**sigmoid function:**  $\\frac{\\mathrm{1} }{\\mathrm{1} + e^-x }$\n",
    "\n",
    "\n",
    "Remember to use the numpy functions\\\n",
    "**Exercice :**\\\n",
    "Developpez la fonction sigmoid en utilisant la formule ci-dessus."
   ]
  },
  {
   "cell_type": "code",
   "execution_count": null,
   "id": "1593a9fc",
   "metadata": {},
   "outputs": [],
   "source": [
    "def sigmoid(x):\n",
    "    # define sigmoid function"
   ]
  },
  {
   "cell_type": "code",
   "execution_count": null,
   "id": "b94bc5af",
   "metadata": {},
   "outputs": [],
   "source": [
    "sigmoid(-3)"
   ]
  },
  {
   "cell_type": "markdown",
   "id": "778fdf6b",
   "metadata": {},
   "source": [
    "**Expected result:** ```0.04742587317756678```"
   ]
  },
  {
   "cell_type": "markdown",
   "id": "ef1b1714",
   "metadata": {},
   "source": [
    "**Rappel**:\n",
    "- The loss is used to evaluate the performance of your model. The larger the loss, the further your predictions ($ \\hat{y} $) are from the true values ($y$). In deep learning, you use optimization algorithms like gradient descent to train your model and minimize the cost.\n",
    "\n",
    "- Loss function is defined as follows: $$\\begin{align*} & Loss(\\hat{y},y) = \\sum_{i=0}^m(y^{(i)} - \\hat{y}^{(i)})^2 \\end{align*}\\tag{7}$$\n",
    "\n",
    "**Exercise :**\\\n",
    "Implement the numpy version of the loss function. Numpy's absolute function can be very useful."
   ]
  },
  {
   "cell_type": "code",
   "execution_count": null,
   "id": "d9796fa7",
   "metadata": {},
   "outputs": [],
   "source": [
    "def Loss_function(y_predicted, y):\n",
    "    #Implement this loss function\n",
    "\n",
    "y_predicted = np.array([.8, 0.4, 0.6, .6, .3])\n",
    "y = np.array([1, 1, 0, 1, 0])\n",
    "print(\"L2 = \" + str(Loss_function(y_predicted,y)))"
   ]
  },
  {
   "cell_type": "markdown",
   "id": "d47345a0",
   "metadata": {},
   "source": [
    "**Expected result:** ```1.01```"
   ]
  },
  {
   "cell_type": "markdown",
   "id": "649064c6",
   "metadata": {},
   "source": [
    "Now that you are more comfortable with mathematics, try to implement these functions:\n",
    "\n",
    "**Exercise :**\\\n",
    "Develop the functions below.\n",
    "\n",
    "- Create a function: $f1(x, y) = x^2 + y^2$. \n",
    "\n",
    "- Create a function: $f2(x) = x^2$. \n",
    "\n",
    "- Create a function to calculate the partial derivative of f1 with respect to x.\n",
    "\n",
    "- Create a function to calculate the partial derivative of f1 with respect to y.\n",
    "\n",
    "- Create a function to calculate the partial derivative of f2 with respect to x.\n",
    "\n",
    "docs: [partial derivative](https://fr.wikipedia.org/wiki/D%C3%A9riv%C3%A9e_partielle)"
   ]
  },
  {
   "cell_type": "code",
   "execution_count": null,
   "id": "2db5e369",
   "metadata": {},
   "outputs": [],
   "source": [
    "def f1(x, y):\n",
    "    return None\n",
    "\n",
    "def d_f1_dx(x, y):\n",
    "    return None\n",
    "\n",
    "def d_f1_dy(x, y):\n",
    "    return None\n",
    "\n",
    "def f2(x):\n",
    "    return None\n",
    "\n",
    "def d_f2_dx(x):\n",
    "    return None"
   ]
  },
  {
   "cell_type": "code",
   "execution_count": null,
   "id": "9f4febb6",
   "metadata": {},
   "outputs": [],
   "source": [
    "result = []\n",
    "result.append(f1(3, 4))\n",
    "result.append(d_f1_dx(3, 4))\n",
    "result.append(f2(7))\n",
    "result.append(d_f2_dx(7))\n",
    "result"
   ]
  },
  {
   "cell_type": "markdown",
   "id": "32bcbece",
   "metadata": {},
   "source": [
    "**Expected result:** ```[25, 6, 49, 14]```"
   ]
  },
  {
   "cell_type": "markdown",
   "id": "7b7880d1",
   "metadata": {},
   "source": [
    "## Generate data\n",
    "\n",
    "To try the next exercises we need data, so we will create some with the linspace function of numpy.\\\n",
    "Create a function that returns an array of data x of size 30 between -10 and 10 for the function $f2$.\\\n",
    "Create a function that returns two arrays of data x and y of size 30 between -10 and 10 for the function $f1$ .\n",
    "\n",
    "docs : [linspace](https://numpy.org/doc/stable/reference/generated/numpy.linspace.html)"
   ]
  },
  {
   "cell_type": "code",
   "execution_count": null,
   "id": "8b521c11",
   "metadata": {},
   "outputs": [],
   "source": [
    "def getData_f1() :\n",
    "    return None, None\n",
    "\n",
    "def getData_f2():\n",
    "    return None"
   ]
  },
  {
   "cell_type": "code",
   "execution_count": null,
   "id": "4d86986d",
   "metadata": {},
   "outputs": [],
   "source": [
    "result = []\n",
    "result.append(getData_f1())\n",
    "result.append(getData_f2())\n",
    "result"
   ]
  },
  {
   "cell_type": "markdown",
   "id": "bd921547",
   "metadata": {},
   "source": [
    "**Expected result:** You should have **3 similar arrays** each containing **30 values** ranging from **-10 to 10** linearly spaced."
   ]
  },
  {
   "cell_type": "markdown",
   "id": "29aaa5bb",
   "metadata": {},
   "source": [
    "In artificial intelligence, we will deal with error functions, they indicate the error of a model, our goal is to find the parameters that allow us to obtain the lowest point of the function, which corresponds to the moment when the AI model is best trained.\n",
    "\n",
    "Below we have two functions that will allow us to visualize the functions, we will use this later.\\\n",
    "For the visualization we use matplotlib, a library that allows to make mathematical graphs."
   ]
  },
  {
   "cell_type": "code",
   "execution_count": null,
   "id": "789d4924",
   "metadata": {},
   "outputs": [],
   "source": [
    "def loss_visualisation_f1() :\n",
    "  x, y = getData_f1()\n",
    "  X, Y = np.meshgrid(x, y)\n",
    "  Z = f1(X, Y)\n",
    "  fig = plt.figure()\n",
    "  ax = plt.axes(projection='3d')\n",
    "  ax.contour(X, Y, Z, 100, cmap='binary')\n",
    "  ax.set_xlabel('input1')\n",
    "  ax.set_ylabel('input2')\n",
    "  ax.set_zlabel('prediction (error)')\n",
    "  ax.view_init(30,30)\n",
    "    \n",
    "def loss_visualisation_f2():\n",
    "    x = getData_f2()\n",
    "    plt.plot(x, f2(x))\n",
    "    plt.xlabel(\"x-axis\")\n",
    "    plt.ylabel(\"y-axis\")\n",
    "    plt.show()"
   ]
  },
  {
   "cell_type": "markdown",
   "id": "0c4b29dd",
   "metadata": {},
   "source": [
    "## Gradient descent\n",
    "\n",
    "This is where you will learn how to minimize a function using gradient descent.\n",
    "\n",
    "Gradient descent is an algorithm that will allow us to find the minimum of a function, and we will use this to find the point where our AI model has its lowest error.\n",
    "\n",
    "Our minimization will be based on ``20`` epochs, which corresponds to the number of iterations.\\\n",
    "The learning rate is 0.1, it is used to slow down the gradient descent in order not to miss the minimum of the function.\n",
    "\n",
    "It is possible to adjust these values to improve our minimization, but so that you can compare your results at first, keep the basic values of learning rate and number of epochs, you can modify this later to have fun.\n",
    "\n",
    "Look at the documentation carefully!\n",
    "\n",
    "**docs :**\\\n",
    "[en-Gradient descent](https://www.youtube.com/watch?v=IHZwWFHWa-w)\\\n",
    "[fr-Descente de gradient](https://www.youtube.com/watch?v=rcl_YRyoLIY)"
   ]
  },
  {
   "cell_type": "code",
   "execution_count": null,
   "id": "c327a440",
   "metadata": {},
   "outputs": [],
   "source": [
    "LR = 0.1\n",
    "EPOCHS = 20\n",
    "\n",
    "if __name__=='__main__' :\n",
    "    print(\"Minimisation de la fonction f2\\nValeurs initiales : \")\n",
    "    x: np.array = getData_f2()\n",
    "    print(x)\n",
    "    #début du code\n",
    "    \n",
    "    # Code here ->\n",
    "    \n",
    "    print(\"\\nNouvelle valeur de x permettant d'être au minimum de f2 :\\n\")\n",
    "    print(x)\n",
    "    loss_visualisation_f2()\n",
    "    #-- minimisation de la fonction f1 --#\n",
    "    print(\"Minimisation de la fonction f1\\nValeurs initiales : \")\n",
    "    x, y = getData_f1()\n",
    "    print(x, y)\n",
    "    #début du code\n",
    "    \n",
    "    # code here ->\n",
    "    \n",
    "    print(\"\\nNouvelle valeur de x et de y permettant d'être au minimum de f1 :\")\n",
    "    print(\"\\nvaleurs de x :\\n\",x,\" \\nvaleurs de y : \\n\",y)\n",
    "    loss_visualisation_f1()"
   ]
  },
  {
   "cell_type": "markdown",
   "id": "16c4bbd2",
   "metadata": {},
   "source": [
    "Normally, you should observe several things.\n",
    "\n",
    "First the arrays of x for $f2$ and of x and y for $f1$ should **all be minimized in the same way** since they are generated in the same way hehe.\n",
    "\n",
    "Normally all the minimized values should be **between -0.1 and 0.1**, since the lowest point of the functions $f1$ and $f2$ is 0 in both cases.\n",
    "\n",
    "You should also visualize the functions $f1$ and $f2$ as **graphs**.\n",
    "\n",
    "So for such simple functions, you don't necessarily need a gradient descent to know that the lowest point corresponds to inputs equal to 0, but when we will minimize real error functions, you will be happy to have a simple algorithm that gives you the lowest point. "
   ]
  },
  {
   "cell_type": "markdown",
   "id": "e4154b8c",
   "metadata": {},
   "source": [
    "# Congratz\n",
    "\n",
    "Congratulations for having reached the end of this workshop!\\\n",
    "You have been able to take a first step into the mathematical world of artificial intelligence.\\\n",
    "During this day, we will approach the mathematical part of AI and will create our neural networks by hand.\n",
    "\n",
    "See you for the next topic!"
   ]
  },
  {
   "cell_type": "code",
   "execution_count": null,
   "id": "672f404a",
   "metadata": {},
   "outputs": [],
   "source": []
  }
 ],
 "metadata": {
  "kernelspec": {
   "display_name": "Python 3 (ipykernel)",
   "language": "python",
   "name": "python3"
  },
  "language_info": {
   "codemirror_mode": {
    "name": "ipython",
    "version": 3
   },
   "file_extension": ".py",
   "mimetype": "text/x-python",
   "name": "python",
   "nbconvert_exporter": "python",
   "pygments_lexer": "ipython3",
   "version": "3.9.5"
  }
 },
 "nbformat": 4,
 "nbformat_minor": 5
}
